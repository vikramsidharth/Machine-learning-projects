{
 "cells": [
  {
   "cell_type": "code",
   "execution_count": null,
   "id": "1e250a39",
   "metadata": {},
   "outputs": [
    {
     "name": "stdout",
     "output_type": "stream",
     "text": [
      " * Serving Flask app '__main__'\n",
      " * Debug mode: on\n"
     ]
    },
    {
     "name": "stderr",
     "output_type": "stream",
     "text": [
      "C:\\Users\\DELL\\anaconda3\\envs\\mini\\lib\\site-packages\\sklearn\\base.py:329: UserWarning: Trying to unpickle estimator LabelBinarizer from version 0.24.2 when using version 1.0.2. This might lead to breaking code or invalid results. Use at your own risk. For more info please refer to:\n",
      "https://scikit-learn.org/stable/modules/model_persistence.html#security-maintainability-limitations\n",
      "  warnings.warn(\n",
      "C:\\Users\\DELL\\anaconda3\\envs\\mini\\lib\\site-packages\\sklearn\\base.py:329: UserWarning: Trying to unpickle estimator MLPClassifier from version 0.24.2 when using version 1.0.2. This might lead to breaking code or invalid results. Use at your own risk. For more info please refer to:\n",
      "https://scikit-learn.org/stable/modules/model_persistence.html#security-maintainability-limitations\n",
      "  warnings.warn(\n",
      "WARNING: This is a development server. Do not use it in a production deployment. Use a production WSGI server instead.\n",
      " * Running on http://127.0.0.1:5000\n",
      "Press CTRL+C to quit\n",
      " * Restarting with stat\n"
     ]
    },
    {
     "ename": "SystemExit",
     "evalue": "1",
     "output_type": "error",
     "traceback": [
      "An exception has occurred, use %tb to see the full traceback.\n",
      "\u001b[1;31mSystemExit\u001b[0m\u001b[1;31m:\u001b[0m 1\n"
     ]
    },
    {
     "name": "stderr",
     "output_type": "stream",
     "text": [
      "C:\\Users\\DELL\\anaconda3\\envs\\mini\\lib\\site-packages\\IPython\\core\\interactiveshell.py:3534: UserWarning: To exit: use 'exit', 'quit', or Ctrl-D.\n",
      "  warn(\"To exit: use 'exit', 'quit', or Ctrl-D.\", stacklevel=1)\n"
     ]
    }
   ],
   "source": [
    "from flask import Flask, render_template, request\n",
    "import joblib\n",
    "from sklearn.preprocessing import StandardScaler, LabelEncoder\n",
    "import numpy as np\n",
    "\n",
    "app = Flask(__name__)\n",
    "\n",
    "# Load the machine learning model\n",
    "loaded_model = joblib.load('mlp_classifier_model.joblib')\n",
    "\n",
    "# Initialize a StandardScaler\n",
    "scaler = StandardScaler()\n",
    "\n",
    "# Initialize a LabelEncoder for 'time_of_day' and 'food_type'\n",
    "time_of_day_encoder = LabelEncoder()\n",
    "food_type_encoder = LabelEncoder()\n",
    "\n",
    "# Define the label encodings (assuming you used 0 for Morning, 1 for Afternoon, and 2 for Evening)\n",
    "time_of_day_encoder.classes_ = np.array(['Morning', 'Afternoon', 'Evening'])\n",
    "\n",
    "# Define the label encodings (assuming you used 0 for Vegetable, 1 for Meat, and 2 for Fruit)\n",
    "food_type_encoder.classes_ = np.array(['Vegetable', 'Meat', 'Fruit'])\n",
    "\n",
    "def preprocess_input_data(temperature, humidity, gas_levels, time_of_day, food_type, storage_duration):\n",
    "    # Encode categorical variables\n",
    "    time_of_day_encoded = time_of_day_encoder.transform([time_of_day])[0]\n",
    "    food_type_encoded = food_type_encoder.transform([food_type])[0]\n",
    "    \n",
    "    # Combine all features into an array\n",
    "    input_data = np.array([temperature, humidity, gas_levels, time_of_day_encoded, food_type_encoded, storage_duration])\n",
    "    \n",
    "    # Standardize the feature values\n",
    "    input_data = scaler.transform([input_data])\n",
    "    \n",
    "    return input_data\n",
    "\n",
    "@app.route('/')\n",
    "def show_form():\n",
    "    return render_template('food_spoilage_form.html')\n",
    "\n",
    "@app.route('/classify', methods=['POST'])\n",
    "def classify():\n",
    "    print(\"Received POST request to /classify\")\n",
    "    temperature = float(request.form['temperature'])\n",
    "    humidity = float(request.form['humidity'])\n",
    "    gas_levels = float(request.form['gas_levels'])\n",
    "    time_of_day = request.form['time_of_day']\n",
    "    food_type = request.form['food_type']\n",
    "    storage_duration = int(request.form['storage_duration'])\n",
    "\n",
    "    # Fit the StandardScaler with the current input data\n",
    "    input_data = np.array([temperature, humidity, gas_levels, 0, 0, storage_duration]).reshape(1, -1)  # Note: Using dummy values for time_of_day and food_type\n",
    "    scaler.partial_fit(input_data)\n",
    "\n",
    "    # Preprocess the input data\n",
    "    input_data = preprocess_input_data(temperature, humidity, gas_levels, time_of_day, food_type, storage_duration)\n",
    "\n",
    "    # Predict spoilage\n",
    "    spoilage_result = loaded_model.predict(input_data)\n",
    "    \n",
    "    # Print the prediction to the console\n",
    "    print(f\"The food is classified as: {'Spoiled' if spoilage_result[0] == 1 else 'Not Spoiled'}\")\n",
    "    \n",
    "    # This line sends the result to the template, but it won't affect what's printed in the terminal.\n",
    "    return render_template('result.html', spoilage_result=spoilage_result[0])\n",
    "\n",
    "\n",
    "if __name__ == '__main__':\n",
    "    app.run(debug=True)\n"
   ]
  },
  {
   "cell_type": "code",
   "execution_count": null,
   "id": "7513603c",
   "metadata": {},
   "outputs": [],
   "source": []
  }
 ],
 "metadata": {
  "kernelspec": {
   "display_name": "Python 3.11.5 ('base')",
   "language": "python",
   "name": "python3"
  },
  "language_info": {
   "codemirror_mode": {
    "name": "ipython",
    "version": 3
   },
   "file_extension": ".py",
   "mimetype": "text/x-python",
   "name": "python",
   "nbconvert_exporter": "python",
   "pygments_lexer": "ipython3",
   "version": "3.11.5"
  },
  "vscode": {
   "interpreter": {
    "hash": "a33e2dd026b46757da8753037120b44e2f03f0cdc8d01781359195c4b91eca54"
   }
  }
 },
 "nbformat": 4,
 "nbformat_minor": 5
}
